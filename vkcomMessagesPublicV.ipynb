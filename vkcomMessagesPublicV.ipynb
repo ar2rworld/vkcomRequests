{
  "nbformat": 4,
  "nbformat_minor": 0,
  "metadata": {
    "colab": {
      "name": "vkcomMessagesPublicV.ipynb",
      "provenance": [],
      "collapsed_sections": []
    },
    "kernelspec": {
      "display_name": "Python 3",
      "name": "python3"
    },
    "language_info": {
      "name": "python"
    }
  },
  "cells": [
    {
      "cell_type": "markdown",
      "metadata": {
        "id": "39SN_tXkhoUr"
      },
      "source": [
        "# Just trying to send some requests to vk.com to perform basic tasks:\n",
        "*   Sending Messages\n",
        "*   Making text post on your wall\n",
        "*   Deleting posts on the wall\n",
        "*   Tried to implement some automated reply but got stuck on figuring out values of:\n",
        "** hashes for different requests(hash)\n",
        "*** not sure which function and what is input data but you can check hashes in renderd HTML pages in browser\n",
        "** timestamps (ts)\n",
        "### Approach I took was checking \"Network\" tab in the browser while completing different actions on the page and trying to repeat them with session methods\n",
        "### Be careful about your personal data\n",
        "###### im not careful at all"
      ]
    },
    {
      "cell_type": "code",
      "metadata": {
        "id": "CJqby4Z1uFVH"
      },
      "source": [
        "import requests\n",
        "from bs4 import BeautifulSoup as bs\n",
        "from random import random as rnd\n",
        "import time\n",
        "def dec(s):\n",
        "  d={}\n",
        "  for i in s.split('&'):\n",
        "    t=i.split('=')\n",
        "    d[t[0]]=t[1]\n",
        "  return d"
      ],
      "execution_count": 1,
      "outputs": []
    },
    {
      "cell_type": "code",
      "metadata": {
        "colab": {
          "base_uri": "https://localhost:8080/",
          "height": 247
        },
        "id": "tCHtFzqI_P0y",
        "outputId": "35d02ff3-ac3d-4a23-cc54-7649a221e8db"
      },
      "source": [
        "s=requests.Session()\n",
        "r0=s.get('https://vk.com/im')\n",
        "soup = bs(r0.text)\n",
        "print('ip_h' in str(r0.text))\n",
        "payload3=soup.find('form').get('action').split('&')[1:]\n",
        "d={}\n",
        "for i in payload3:\n",
        "  t=i.split('=')\n",
        "  if t[0]!='utf8':\n",
        "    d[t[0]]=t[1].replace(r'%3A',':').replace(r'%2F','/')\n",
        "#You email/phone and password\n",
        "d['email']=''\n",
        "d['pass']=''\n",
        "print(d)\n",
        "r0=s.post(url, data=d)#, headers=headers)\n",
        "#r0=s.get('https://vk.com/im')"
      ],
      "execution_count": 2,
      "outputs": [
        {
          "output_type": "error",
          "ename": "NameError",
          "evalue": "ignored",
          "traceback": [
            "\u001b[0;31m---------------------------------------------------------------------------\u001b[0m",
            "\u001b[0;31mNameError\u001b[0m                                 Traceback (most recent call last)",
            "\u001b[0;32m<ipython-input-2-bc6ee9f906c3>\u001b[0m in \u001b[0;36m<module>\u001b[0;34m()\u001b[0m\n\u001b[0;32m----> 1\u001b[0;31m \u001b[0mr0\u001b[0m\u001b[0;34m=\u001b[0m\u001b[0ms\u001b[0m\u001b[0;34m.\u001b[0m\u001b[0mget\u001b[0m\u001b[0;34m(\u001b[0m\u001b[0;34m'https://vk.com/im'\u001b[0m\u001b[0;34m)\u001b[0m\u001b[0;34m\u001b[0m\u001b[0;34m\u001b[0m\u001b[0m\n\u001b[0m\u001b[1;32m      2\u001b[0m \u001b[0msoup\u001b[0m \u001b[0;34m=\u001b[0m \u001b[0mbs\u001b[0m\u001b[0;34m(\u001b[0m\u001b[0mr0\u001b[0m\u001b[0;34m.\u001b[0m\u001b[0mtext\u001b[0m\u001b[0;34m)\u001b[0m\u001b[0;34m\u001b[0m\u001b[0;34m\u001b[0m\u001b[0m\n\u001b[1;32m      3\u001b[0m \u001b[0mprint\u001b[0m\u001b[0;34m(\u001b[0m\u001b[0;34m'ip_h'\u001b[0m \u001b[0;32min\u001b[0m \u001b[0mstr\u001b[0m\u001b[0;34m(\u001b[0m\u001b[0mr0\u001b[0m\u001b[0;34m.\u001b[0m\u001b[0mtext\u001b[0m\u001b[0;34m)\u001b[0m\u001b[0;34m)\u001b[0m\u001b[0;34m\u001b[0m\u001b[0;34m\u001b[0m\u001b[0m\n\u001b[1;32m      4\u001b[0m \u001b[0mpayload3\u001b[0m\u001b[0;34m=\u001b[0m\u001b[0msoup\u001b[0m\u001b[0;34m.\u001b[0m\u001b[0mfind\u001b[0m\u001b[0;34m(\u001b[0m\u001b[0;34m'form'\u001b[0m\u001b[0;34m)\u001b[0m\u001b[0;34m.\u001b[0m\u001b[0mget\u001b[0m\u001b[0;34m(\u001b[0m\u001b[0;34m'action'\u001b[0m\u001b[0;34m)\u001b[0m\u001b[0;34m.\u001b[0m\u001b[0msplit\u001b[0m\u001b[0;34m(\u001b[0m\u001b[0;34m'&'\u001b[0m\u001b[0;34m)\u001b[0m\u001b[0;34m[\u001b[0m\u001b[0;36m1\u001b[0m\u001b[0;34m:\u001b[0m\u001b[0;34m]\u001b[0m\u001b[0;34m\u001b[0m\u001b[0;34m\u001b[0m\u001b[0m\n\u001b[1;32m      5\u001b[0m \u001b[0md\u001b[0m\u001b[0;34m=\u001b[0m\u001b[0;34m{\u001b[0m\u001b[0;34m}\u001b[0m\u001b[0;34m\u001b[0m\u001b[0;34m\u001b[0m\u001b[0m\n",
            "\u001b[0;31mNameError\u001b[0m: name 's' is not defined"
          ]
        }
      ]
    },
    {
      "cell_type": "code",
      "metadata": {
        "id": "ukd6jYG86ccN"
      },
      "source": [
        "r0.headers"
      ],
      "execution_count": null,
      "outputs": []
    },
    {
      "cell_type": "code",
      "metadata": {
        "id": "3C6s2ASCg5VZ"
      },
      "source": [
        "if True:\n",
        "  for i in range(1):\n",
        "    #adding some random numbers to request\n",
        "    salt=int(rnd()*1000)+100\n",
        "    co=str(i)\n",
        "    a_message='act=a_send&al=1&entrypoint=list_all&gid=0&guid=' +'guildID'+ '' +str(salt)+ '&hash=' +'Hash'+ '&im_v=3&media=&module=im&msg=a'+str(salt)+'&random_id=124920'+str(salt)+'&to=' +'userID'+ ''\n",
        "    #making a dict for POST request\n",
        "    message=dec(anti_message)\n",
        "    r0=s.post('https://vk.com/al_im.php?act=a_send', data=message)\n",
        "    print(r0.text)\n",
        "    #Waiting some time\n",
        "    time.sleep(0.1)"
      ],
      "execution_count": null,
      "outputs": []
    },
    {
      "cell_type": "code",
      "metadata": {
        "id": "SWUgcqPsjRlx"
      },
      "source": [
        "r0.text"
      ],
      "execution_count": null,
      "outputs": []
    },
    {
      "cell_type": "code",
      "metadata": {
        "id": "0GlCIYundnSM"
      },
      "source": [
        "#reply to a post!\n",
        "ts=str(int(time.time()))\n",
        "reply='Message=I was just checking how to make post requests to leave comments to VK post&act=post&al=2&from=&hash=' +'Your hash'+ '&need_last=0&only_new=2&order=asc&ref=wall_page&reply_to=' +'postID'+ '&reply_to_msg=&reply_to_user=0&timestamp=' +ts+ '&type=all'\n",
        "data_reply=dec(reply)\n",
        "print(ts)\n",
        "r0=s.post('https://vk.com/al_wall.php?act=post', data=data_reply)"
      ],
      "execution_count": null,
      "outputs": []
    },
    {
      "cell_type": "code",
      "metadata": {
        "id": "SN24HYRahc08"
      },
      "source": [
        "#make post\n",
        "for i in range(1):\n",
        "  post='act=post&to_id=' +'userID'+ '&type=all&friends_only=&best_friends_only=&close_comments=0&mute_notifications=0&mark_as_ads=0&official=&signed=&hash=' +'Hash'+ '&from=&fixed=461&update_admin_tips=0&Message=' +'postContent' + '&al=1'\n",
        "  data_post=dec(post)\n",
        "  r0=s.post('https://vk.com/al_wall.php?act=post',data=data_post)\n",
        "  time.sleep(1)"
      ],
      "execution_count": null,
      "outputs": []
    },
    {
      "cell_type": "code",
      "metadata": {
        "id": "vVkrAvSLrbTG"
      },
      "source": [
        "def getPostViewHash():\n",
        "  url='https://vk.com/al_wall.php?act=get_wall'\n",
        "  wall_str='act=get_wall&al=1&fixed=461&offset=' +'postViewHash'+ '&onlyCache=false&owner_id=' +'userID'+ '&type=all'\n",
        "  data_wall=dec(wall_str)\n",
        "  my_page=s.post(url, data=data_wall)\n",
        "  text=my_page.text\n",
        "  start=text.index('post_view_hash')\n",
        "  #Example of hash lenght\n",
        "  end=len('25f18a349238f49c4f')\n",
        "  return text[start+17:start+17+end]\n",
        "getPostViewHash()"
      ],
      "execution_count": null,
      "outputs": []
    },
    {
      "cell_type": "code",
      "metadata": {
        "id": "gP1PZnrFAOd4"
      },
      "source": [
        "#deleting last n posts\n",
        "def deletePosts(n):\n",
        "  #s = session assuming that session already logged in\n",
        "  #n = number of last posts\n",
        "  #hash should be taken from userPage\n",
        "  hash='1624655966_e4ec2b8ba846e917dc'\n",
        "  #not sure which has \n",
        "  url='https://vk.com/al_wall.php?act=get_wall'\n",
        "  str_start='data-post-id='\n",
        "  str_end='\"wall.postClick'\n",
        "  for i in range(0, n):\n",
        "    wall_str='act=get_wall&al=1&fixed=461&offset=' +str(i)+ '&onlyCache=false&owner_id=' +'userID'+ '&type=all'\n",
        "    data_wall=dec(wall_str)\n",
        "    r0=s.post(url, data=data_wall)\n",
        "    st=r0.text.index(str_start)\n",
        "    end=r0.text.index(str_end)\n",
        "    len_str_start=len(str_start)\n",
        "    len_str_end=len(str_end)\n",
        "    post_id=(r0.text[st+len_str_start+2: end-12])\n",
        "    print(post_id)\n",
        "    time.sleep(1)\n",
        "    delete_post='act=delete&al=1&confirm=0&from=wall&hash=' +hash+ '&post=' +str(post_id)+ '&root=0'\n",
        "    #delete_post='act=delete&al=1&confirm=0&from=wall&post=' +str(post_id)+ '&root=0'\n",
        "    print(delete_post)\n",
        "    data_delete_post=dec(delete_post)\n",
        "    del_result=s.post('https://vk.com/al_wall.php?act=delete', data=data_delete_post)\n",
        "    print(del_result.text)\n",
        "\n",
        "#deletePosts(1)\n",
        "#getPostViewHash()"
      ],
      "execution_count": null,
      "outputs": []
    },
    {
      "cell_type": "markdown",
      "metadata": {
        "id": "Ez1f6BOuhMTt"
      },
      "source": [
        "You can check for the new message sending POST req\n",
        "\n",
        "\n",
        "```\n",
        "req = s.get('https://im.vk.com/nim' +'userID'+ '?act=a_check&key=' +'UnknownKey'+ '&mode=1226&ts=' +'timeStamp'+ '&version=14&wait=25')\n",
        "```"
      ]
    },
    {
      "cell_type": "code",
      "metadata": {
        "id": "wBm0qorbaGdw"
      },
      "source": [
        "#checking new messages\n",
        "#im_messages=s.get(url)\n",
        "#str(int(time.time()))\n",
        "#if message has \"RIP\" in it reply to it\n",
        "#need to figure out exact requests\n",
        "while True:\n",
        "  req = s.get('https://im.vk.com/nim' +'userID'+ '?act=a_check&key=' +'UnknownKey'+ '&mode=1226&ts=' +'1776167059'+ '&version=14&wait=25')\n",
        "  if \"RIP\" in req.text:\n",
        "    salt=int(rnd()*1000)+900\n",
        "    art_bot_m='act=a_send&al=1&entrypoint=list_all&gid=0&guid=' +'UnknownKey' +str(salt)+'&hash=' +'Hash'+ '&im_v=3&media=&module=im&msg=a'+str(salt)+'&random_id=1981872'+str(salt)+'&to=-147720339'\n",
        "    message=dec(art_bot_m)\n",
        "    r0=s.post('https://vk.com/al_im.php?act=a_send', data=message)\n",
        "  time.sleep(1)"
      ],
      "execution_count": null,
      "outputs": []
    }
  ]
}